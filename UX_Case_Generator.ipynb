# %% [markdown]
# # UX Case Study Generator
# [![Open In Colab](https://colab.research.google.com/assets/colab-badge.svg)](https://colab.research.google.com/github/Ammer-A/ux-case-generator/blob/main/UX_Case_Generator.ipynb)

# 1. Click the Runtime menu
# 2. Select "Run all"
# 3. Follow the prompts

# %%
# Install dependencies
!pip install --quiet --upgrade google-api-python-client google-auth-httplib2 google-auth-oauthlib requests python-dotenv

# %%
import os
import json
import requests
from datetime import datetime
from google.colab import auth
from google.auth import default
from googleapiclient.discovery import build
from googleapiclient.errors import HttpError

# Authenticate with Google
auth.authenticate_user()
creds, _ = default()

# %% [markdown]
# ## Step 1: Enter Figma Details

# %%
from getpass import getpass

figma_token = getpass('Enter your Figma personal access token (get from figma.com/developers): ')
figma_url = input('Paste your Figma file URL: ')

# %% [markdown]
# ## Step 2: Generating Your Case Study...
# This may take 2-5 minutes

# %%
class UXCaseGenerator:
    def __init__(self, figma_token, figma_url):
        self.figma_token = figma_token
        self.figma_url = figma_url
        self.slides_service = build('slides', 'v1', credentials=creds)
        self.sheets_service = build('sheets', 'v4', credentials=creds)
        self.presentation = None
        self.spreadsheet = None
        self.file_key = self._extract_file_key()
        
    def _extract_file_key(self):
        """Extract Figma file ID from URL"""
        parts = self.figma_url.split('/file/')
        if len(parts) < 2:
            raise ValueError("Invalid Figma URL format")
        return parts[1].split('/')[0]

    def _figma_api_call(self, endpoint):
        """Make authenticated Figma API call"""
        response = requests.get(
            f"https://api.figma.com/v1/{endpoint}",
            headers={'X-FIGMA-TOKEN': self.figma_token}
        )
        response.raise_for_status()
        return response.json()

    def create_case_study(self):
        """Main workflow"""
        self._create_google_resources()
        self._create_slides_template()
        self._pull_figma_data()
        return {
            'slides': f'https://docs.google.com/presentation/d/{self.presentation["presentationId"]}',
            'sheet': f'https://docs.google.com/spreadsheets/d/{self.spreadsheet["spreadsheetId"]}'
        }

    def _create_google_resources(self):
        """Create Slides and Sheets documents"""
        # Create presentation
        self.presentation = self.slides_service.presentations().create(
            body={'title': f'UX Case Study - {datetime.now().strftime("%Y-%m-%d")}'}
        ).execute()
        
        # Create spreadsheet
        self.spreadsheet = self.sheets_service.spreadsheets().create(body={
            'properties': {'title': 'UX Case Study Data'}
        }).execute()

    def _create_slides_template(self):
        """Create all 10 slides structure"""
        slides = [
            {'title': 'Project Overview', 'type': 'TITLE_AND_BODY'},
            {'title': 'Problem Statement', 'type': 'TITLE_AND_BODY'},
            {'title': 'Research & Discovery', 'type': 'TITLE_AND_BODY'},
            {'title': 'Ideation Process', 'type': 'TITLE_AND_BODY'},
            {'title': 'Design Process', 'type': 'TITLE_AND_BODY'},
            {'title': 'Final Design', 'type': 'TITLE_AND_BODY'},
            {'title': 'Testing & Validation', 'type': 'TITLE_AND_BODY'},
            {'title': 'Results & Impact', 'type': 'TITLE_AND_BODY'},
            {'title': 'Learnings & Next Steps', 'type': 'TITLE_AND_BODY'}
        ]
        
        requests = [{
            'createSlide': {
                'objectId': f'slide_{idx}',
                'slideLayoutReference': {'predefinedLayout': slide['type']}
            }
        } for idx, slide in enumerate(slides)]
        
        self.slides_service.presentations().batchUpdate(
            presentationId=self.presentation['presentationId'],
            body={'requests': requests}
        ).execute()

    def _pull_figma_data(self):
        """Extract and populate Figma data"""
        # Get basic file data
        file_data = self._figma_api_call(f'files/{self.file_key}')
        
        # Get components and styles
        components = self._figma_api_call(f'files/{self.file_key}/components')['meta']['components']
        styles = self._figma_api_call(f'files/{self.file_key}/styles')['meta']['styles']
        
        # Populate slides
        self._populate_overview(file_data)
        self._populate_components(components)
        self._populate_styles(styles)

    def _populate_overview(self, data):
        """Populate project overview slide"""
        requests = [{
            'insertText': {
                'objectId': 'slide_0_TITLE',
                'text': data['name']
            }
        }, {
            'insertText': {
                'objectId': 'slide_0_BODY',
                'text': f"Created: {datetime.fromisoformat(data['lastModified']).strftime('%Y-%m-%d')}\n"
                        f"Figma URL: {self.figma_url}"
            }
        }]
        self.slides_service.presentations().batchUpdate(
            presentationId=self.presentation['presentationId'],
            body={'requests': requests}
        ).execute()

    def _populate_components(self, components):
        """Populate components slide"""
        content = "Key Components:\n\n" + "\n".join([
            f"- {comp['name']} ({comp.get('description', 'no description')})"
            for comp in components
        ])
        
        self._update_slide_content(3, content)

    def _populate_styles(self, styles):
        """Populate design tokens slide"""
        colors = [s for s in styles if s['styleType'] == 'FILL']
        typography = [s for s in styles if s['styleType'] == 'TEXT']
        
        content = "Design System:\n\nColors:\n" + "\n".join(
            [f"- {c['name']}: {c['description']}" for c in colors]
        ) + "\n\nTypography:\n" + "\n".join(
            [f"- {t['name']}: {t['description']}" for t in typography]
        )
        
        self._update_slide_content(4, content)

    def _update_slide_content(self, slide_num, text):
        """Update slide content with formatted text"""
        requests = [{
            'insertText': {
                'objectId': f'slide_{slide_num}_TITLE',
                'text': text.split('\n')[0]
            }
        }, {
            'insertText': {
                'objectId': f'slide_{slide_num}_BODY',
                'text': '\n'.join(text.split('\n')[1:])
            }
        }]
        
        self.slides_service.presentations().batchUpdate(
            presentationId=self.presentation['presentationId'],
            body={'requests': requests}
        ).execute()

# %%
# Create and run generator
try:
    generator = UXCaseGenerator(figma_token, figma_url)
    result = generator.create_case_study()
    print("\n✅ Case Study Created Successfully!")
    print(f"\nGoogle Slides: {result['slides']}")
    print(f"Google Sheets: {result['sheet']}")
    print("\n⚠️ Please save these URLs!")

except Exception as e:
    print(f"\n❌ Error: {str(e)}")
    print("Please check:")
    print("- Valid Figma URL with proper access")
    print("- Correct Figma access token")
    print("- Internet connection")
