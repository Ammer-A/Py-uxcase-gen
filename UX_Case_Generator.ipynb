# %% [markdown]
# # UX Case Study Generator
# [![Open In Colab](https://colab.research.google.com/assets/colab-badge.svg)](https://colab.research.google.com/github/yourusername/ux-case-generator/blob/main/UX_Case_Generator.ipynb)
# 
# 1. Click the **Runtime** menu
# 2. Select **Run all**
# 3. Follow the prompts

# %%
# Install dependencies
!pip install --quiet --upgrade google-api-python-client google-auth-httplib2 google-auth-oauthlib requests

# %%
import os
import json
import requests
from datetime import datetime
from getpass import getpass
from google.colab import auth
from google.auth import default
from googleapiclient.discovery import build
from googleapiclient.errors import HttpError

# Authenticate with Google
auth.authenticate_user()
creds, _ = default()

# %% [markdown]
# ## Step 1: Enter Figma Details

# %%
figma_token = getpass('Enter Figma personal access token (get from figma.com/developers): ')
figma_url = input('Paste Figma file URL: ')

# %% [markdown]
# ## Step 2: Generating Your Case Study...
# *This may take 1-3 minutes*

# %%
class UXCaseGenerator:
    def __init__(self, figma_token, figma_url):
        self.figma_token = figma_token
        self.figma_url = figma_url
        self.slides_service = build('slides', 'v1', credentials=creds)
        self.sheets_service = build('sheets', 'v4', credentials=creds)
        self.presentation_id = None
        self.sheet_id = None
        self.file_key = self._extract_file_key()
        
    def _extract_file_key(self):
        """Get Figma file ID from URL"""
        parts = self.figma_url.split('/file/')
        if len(parts) < 2 or not parts[1]:
            raise ValueError("❌ Invalid Figma URL format")
        return parts[1].split('/')[0]

    def _figma_api(self, endpoint):
        """Make authenticated Figma API call"""
        response = requests.get(
            f"https://api.figma.com/v1/{endpoint}",
            headers={'X-FIGMA-TOKEN': self.figma_token}
        )
        response.raise_for_status()
        return response.json()

    def create_case_study(self):
        """Main workflow"""
        self._create_resources()
        self._create_template()
        self._pull_data()
        return {
            'slides': f'https://docs.google.com/presentation/d/{self.presentation_id}',
            'sheet': f'https://docs.google.com/spreadsheets/d/{self.sheet_id}'
        }

    def _create_resources(self):
        """Create Google Slides and Sheets"""
        # Create presentation
        presentation = self.slides_service.presentations().create(body={
            'title': f'UX Case Study - {datetime.now().strftime("%Y-%m-%d")}'
        }).execute()
        self.presentation_id = presentation['presentationId']
        
        # Create spreadsheet
        spreadsheet = self.sheets_service.spreadsheets().create(body={
            'properties': {'title': 'UX Case Study Data'}
        }).execute()
        self.sheet_id = spreadsheet['spreadsheetId']

    def _create_template(self):
        """Create 10-slide template structure"""
        slides = [
            {'title': 'Project Overview', 'type': 'TITLE_AND_BODY'},
            {'title': 'Problem Statement', 'type': 'TITLE_AND_BODY'},
            {'title': 'Research & Discovery', 'type': 'TITLE_AND_BODY'},
            {'title': 'Ideation Process', 'type': 'TITLE_AND_BODY'},
            {'title': 'Design Process', 'type': 'TITLE_AND_BODY'},
            {'title': 'Final Design', 'type': 'TITLE_AND_BODY'},
            {'title': 'Testing & Validation', 'type': 'TITLE_AND_BODY'},
            {'title': 'Results & Impact', 'type': 'TITLE_AND_BODY'},
            {'title': 'Learnings & Next Steps', 'type': 'TITLE_AND_BODY'}
        ]
        
        # Create slides
        batch = [{
            'createSlide': {
                'objectId': f'slide_{idx}',
                'slideLayoutReference': {'predefinedLayout': slide['type']}
            }
        } for idx, slide in enumerate(slides)]
        
        self.slides_service.presentations().batchUpdate(
            presentationId=self.presentation_id,
            body={'requests': batch}
        ).execute()

    def _pull_data(self):
        """Extract and populate Figma data"""
        try:
            # Get core file data
            file_data = self._figma_api(f'files/{self.file_key}')
            components = self._figma_api(f'files/{self.file_key}/components')['meta']['components']
            styles = self._figma_api(f'files/{self.file_key}/styles')['meta']['styles']
            
            # Populate content
            self._update_slide(0, [
                f"Project: {file_data['name']}",
                f"Last Updated: {datetime.fromisoformat(file_data['lastModified']).strftime('%Y-%m-%d')}",
                f"Figma Link: {self.figma_url}"
            ])
            
            self._update_slide(3, [
                "Key Components:",
                *[f"- {c['name']}: {c.get('description', '')}" for c in components]
            ])
            
            self._update_slide(4, [
                "Design System:",
                "Colors:",
                *[f"- {s['name']}: {s['description']}" for s in styles if s['styleType'] == 'FILL'],
                "\nTypography:",
                *[f"- {s['name']}: {s['description']}" for s in styles if s['styleType'] == 'TEXT']
            ])
            
        except Exception as e:
            raise RuntimeError(f"Figma data error: {str(e)}") from e

    def _update_slide(self, slide_num, content):
        """Update slide content"""
        requests = [{
            'insertText': {
                'objectId': f'slide_{slide_num}_TITLE',
                'text': content[0]
            }
        }, {
            'insertText': {
                'objectId': f'slide_{slide_num}_BODY',
                'text': '\n'.join(content[1:])
            }
        }]
        
        self.slides_service.presentations().batchUpdate(
            presentationId=self.presentation_id,
            body={'requests': requests}
        ).execute()

# Create generator
try:
    print("\n🔄 Starting generation process...")
    generator = UXCaseGenerator(figma_token, figma_url)
    result = generator.create_case_study()
    
    print("\n✅ Success! Your case study is ready:")
    print(f"📊 Slides: {result['slides']}")
    print(f"📈 Sheet: {result['sheet']}")
    print("\n💡 Tip: Check your Google Drive for the new files!")

except Exception as e:
    print(f"\n❌ Error: {str(e)}")
    print("Possible fixes:")
    print("- Check Figma URL format: https://www.figma.com/file/...")
    print("- Verify Figma token has file access")
    print("- Ensure stable internet connection")
    print("- Retry the process")
